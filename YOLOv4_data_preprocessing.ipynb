{
 "cells": [
  {
   "cell_type": "markdown",
   "id": "f94a94a3",
   "metadata": {},
   "source": [
    "# YOLO v5: Object Detection"
   ]
  },
  {
   "cell_type": "code",
   "execution_count": 1,
   "id": "b6ff9ee6",
   "metadata": {
    "scrolled": true
   },
   "outputs": [
    {
     "name": "stdout",
     "output_type": "stream",
     "text": [
      "Requirement already satisfied: pip in c:\\users\\pyare\\anaconda3\\envs\\dl\\lib\\site-packages (21.0.1)\n",
      "Collecting pip\n",
      "  Downloading pip-21.3.1-py3-none-any.whl (1.7 MB)\n",
      "Installing collected packages: pip\n",
      "  Attempting uninstall: pip\n",
      "    Found existing installation: pip 21.0.1\n",
      "    Uninstalling pip-21.0.1:\n",
      "      Successfully uninstalled pip-21.0.1\n",
      "Successfully installed pip-21.3.1\n",
      "Collecting tensorflow==2.3.1\n",
      "  Downloading tensorflow-2.3.1-cp36-cp36m-win_amd64.whl (342.5 MB)\n",
      "Requirement already satisfied: keras-preprocessing<1.2,>=1.1.1 in c:\\users\\pyare\\anaconda3\\envs\\dl\\lib\\site-packages (from tensorflow==2.3.1) (1.1.2)\n",
      "Requirement already satisfied: protobuf>=3.9.2 in c:\\users\\pyare\\anaconda3\\envs\\dl\\lib\\site-packages (from tensorflow==2.3.1) (3.19.1)\n",
      "Collecting tensorboard<3,>=2.3.0\n",
      "  Downloading tensorboard-2.8.0-py3-none-any.whl (5.8 MB)\n",
      "Collecting numpy<1.19.0,>=1.16.0\n",
      "  Using cached numpy-1.18.5-cp36-cp36m-win_amd64.whl (12.7 MB)\n",
      "Requirement already satisfied: termcolor>=1.1.0 in c:\\users\\pyare\\anaconda3\\envs\\dl\\lib\\site-packages (from tensorflow==2.3.1) (1.1.0)\n",
      "Requirement already satisfied: google-pasta>=0.1.8 in c:\\users\\pyare\\anaconda3\\envs\\dl\\lib\\site-packages (from tensorflow==2.3.1) (0.2.0)\n",
      "Requirement already satisfied: h5py<2.11.0,>=2.10.0 in c:\\users\\pyare\\anaconda3\\envs\\dl\\lib\\site-packages (from tensorflow==2.3.1) (2.10.0)\n",
      "Requirement already satisfied: opt-einsum>=2.3.2 in c:\\users\\pyare\\anaconda3\\envs\\dl\\lib\\site-packages (from tensorflow==2.3.1) (3.3.0)\n",
      "Collecting gast==0.3.3\n",
      "  Using cached gast-0.3.3-py2.py3-none-any.whl (9.7 kB)\n",
      "Requirement already satisfied: six>=1.12.0 in c:\\users\\pyare\\anaconda3\\envs\\dl\\lib\\site-packages (from tensorflow==2.3.1) (1.16.0)\n",
      "Requirement already satisfied: grpcio>=1.8.6 in c:\\users\\pyare\\anaconda3\\envs\\dl\\lib\\site-packages (from tensorflow==2.3.1) (1.41.1)\n",
      "Requirement already satisfied: absl-py>=0.7.0 in c:\\users\\pyare\\anaconda3\\envs\\dl\\lib\\site-packages (from tensorflow==2.3.1) (1.0.0)\n",
      "Requirement already satisfied: wrapt>=1.11.1 in c:\\users\\pyare\\anaconda3\\envs\\dl\\lib\\site-packages (from tensorflow==2.3.1) (1.13.3)\n",
      "Requirement already satisfied: astunparse==1.6.3 in c:\\users\\pyare\\anaconda3\\envs\\dl\\lib\\site-packages (from tensorflow==2.3.1) (1.6.3)\n",
      "Collecting tensorflow-estimator<2.4.0,>=2.3.0\n",
      "  Downloading tensorflow_estimator-2.3.0-py2.py3-none-any.whl (459 kB)\n",
      "Requirement already satisfied: wheel>=0.26 in c:\\users\\pyare\\anaconda3\\envs\\dl\\lib\\site-packages (from tensorflow==2.3.1) (0.37.0)\n",
      "Requirement already satisfied: google-auth<3,>=1.6.3 in c:\\users\\pyare\\anaconda3\\envs\\dl\\lib\\site-packages (from tensorboard<3,>=2.3.0->tensorflow==2.3.1) (1.35.0)\n",
      "Requirement already satisfied: werkzeug>=0.11.15 in c:\\users\\pyare\\anaconda3\\envs\\dl\\lib\\site-packages (from tensorboard<3,>=2.3.0->tensorflow==2.3.1) (2.0.2)\n",
      "Requirement already satisfied: setuptools>=41.0.0 in c:\\users\\pyare\\anaconda3\\envs\\dl\\lib\\site-packages (from tensorboard<3,>=2.3.0->tensorflow==2.3.1) (58.0.4)\n",
      "Requirement already satisfied: tensorboard-data-server<0.7.0,>=0.6.0 in c:\\users\\pyare\\anaconda3\\envs\\dl\\lib\\site-packages (from tensorboard<3,>=2.3.0->tensorflow==2.3.1) (0.6.1)\n",
      "Requirement already satisfied: markdown>=2.6.8 in c:\\users\\pyare\\anaconda3\\envs\\dl\\lib\\site-packages (from tensorboard<3,>=2.3.0->tensorflow==2.3.1) (3.3.4)\n",
      "Requirement already satisfied: google-auth-oauthlib<0.5,>=0.4.1 in c:\\users\\pyare\\anaconda3\\envs\\dl\\lib\\site-packages (from tensorboard<3,>=2.3.0->tensorflow==2.3.1) (0.4.6)\n",
      "Requirement already satisfied: tensorboard-plugin-wit>=1.6.0 in c:\\users\\pyare\\anaconda3\\envs\\dl\\lib\\site-packages (from tensorboard<3,>=2.3.0->tensorflow==2.3.1) (1.8.0)\n",
      "Requirement already satisfied: requests<3,>=2.21.0 in c:\\users\\pyare\\anaconda3\\envs\\dl\\lib\\site-packages (from tensorboard<3,>=2.3.0->tensorflow==2.3.1) (2.26.0)\n",
      "Requirement already satisfied: pyasn1-modules>=0.2.1 in c:\\users\\pyare\\anaconda3\\envs\\dl\\lib\\site-packages (from google-auth<3,>=1.6.3->tensorboard<3,>=2.3.0->tensorflow==2.3.1) (0.2.8)\n",
      "Requirement already satisfied: cachetools<5.0,>=2.0.0 in c:\\users\\pyare\\anaconda3\\envs\\dl\\lib\\site-packages (from google-auth<3,>=1.6.3->tensorboard<3,>=2.3.0->tensorflow==2.3.1) (4.2.4)\n",
      "Requirement already satisfied: rsa<5,>=3.1.4 in c:\\users\\pyare\\anaconda3\\envs\\dl\\lib\\site-packages (from google-auth<3,>=1.6.3->tensorboard<3,>=2.3.0->tensorflow==2.3.1) (4.7.2)\n",
      "Requirement already satisfied: requests-oauthlib>=0.7.0 in c:\\users\\pyare\\anaconda3\\envs\\dl\\lib\\site-packages (from google-auth-oauthlib<0.5,>=0.4.1->tensorboard<3,>=2.3.0->tensorflow==2.3.1) (1.3.0)\n",
      "Requirement already satisfied: importlib-metadata in c:\\users\\pyare\\anaconda3\\envs\\dl\\lib\\site-packages (from markdown>=2.6.8->tensorboard<3,>=2.3.0->tensorflow==2.3.1) (4.8.2)\n",
      "Requirement already satisfied: charset-normalizer~=2.0.0 in c:\\users\\pyare\\anaconda3\\envs\\dl\\lib\\site-packages (from requests<3,>=2.21.0->tensorboard<3,>=2.3.0->tensorflow==2.3.1) (2.0.7)\n",
      "Requirement already satisfied: urllib3<1.27,>=1.21.1 in c:\\users\\pyare\\anaconda3\\envs\\dl\\lib\\site-packages (from requests<3,>=2.21.0->tensorboard<3,>=2.3.0->tensorflow==2.3.1) (1.26.7)\n",
      "Requirement already satisfied: idna<4,>=2.5 in c:\\users\\pyare\\anaconda3\\envs\\dl\\lib\\site-packages (from requests<3,>=2.21.0->tensorboard<3,>=2.3.0->tensorflow==2.3.1) (3.3)\n",
      "Requirement already satisfied: certifi>=2017.4.17 in c:\\users\\pyare\\anaconda3\\envs\\dl\\lib\\site-packages (from requests<3,>=2.21.0->tensorboard<3,>=2.3.0->tensorflow==2.3.1) (2021.5.30)\n",
      "Requirement already satisfied: dataclasses in c:\\users\\pyare\\anaconda3\\envs\\dl\\lib\\site-packages (from werkzeug>=0.11.15->tensorboard<3,>=2.3.0->tensorflow==2.3.1) (0.8)\n",
      "Requirement already satisfied: pyasn1<0.5.0,>=0.4.6 in c:\\users\\pyare\\anaconda3\\envs\\dl\\lib\\site-packages (from pyasn1-modules>=0.2.1->google-auth<3,>=1.6.3->tensorboard<3,>=2.3.0->tensorflow==2.3.1) (0.4.8)\n",
      "Requirement already satisfied: oauthlib>=3.0.0 in c:\\users\\pyare\\anaconda3\\envs\\dl\\lib\\site-packages (from requests-oauthlib>=0.7.0->google-auth-oauthlib<0.5,>=0.4.1->tensorboard<3,>=2.3.0->tensorflow==2.3.1) (3.1.1)\n",
      "Requirement already satisfied: zipp>=0.5 in c:\\users\\pyare\\anaconda3\\envs\\dl\\lib\\site-packages (from importlib-metadata->markdown>=2.6.8->tensorboard<3,>=2.3.0->tensorflow==2.3.1) (3.6.0)\n",
      "Requirement already satisfied: typing-extensions>=3.6.4 in c:\\users\\pyare\\anaconda3\\envs\\dl\\lib\\site-packages (from importlib-metadata->markdown>=2.6.8->tensorboard<3,>=2.3.0->tensorflow==2.3.1) (3.10.0.2)\n",
      "Installing collected packages: numpy, tensorflow-estimator, tensorboard, gast, tensorflow\n",
      "  Attempting uninstall: numpy\n",
      "    Found existing installation: numpy 1.19.2\n",
      "    Uninstalling numpy-1.19.2:\n",
      "      Successfully uninstalled numpy-1.19.2\n",
      "  Attempting uninstall: tensorflow-estimator\n",
      "    Found existing installation: tensorflow-estimator 2.0.1\n",
      "    Uninstalling tensorflow-estimator-2.0.1:\n",
      "      Successfully uninstalled tensorflow-estimator-2.0.1\n",
      "  Attempting uninstall: tensorboard\n",
      "    Found existing installation: tensorboard 2.1.0\n",
      "    Uninstalling tensorboard-2.1.0:\n",
      "      Successfully uninstalled tensorboard-2.1.0\n",
      "  Attempting uninstall: gast\n",
      "    Found existing installation: gast 0.2.2\n",
      "    Uninstalling gast-0.2.2:\n",
      "      Successfully uninstalled gast-0.2.2\n",
      "Successfully installed gast-0.3.3 numpy-1.18.5 tensorboard-2.8.0 tensorflow-2.3.1 tensorflow-estimator-2.3.0\n"
     ]
    },
    {
     "name": "stderr",
     "output_type": "stream",
     "text": [
      "ERROR: pip's dependency resolver does not currently take into account all the packages that are installed. This behaviour is the source of the following dependency conflicts.\n",
      "tensorflow-gpu 2.0.0 requires gast==0.2.2, but you have gast 0.3.3 which is incompatible.\n",
      "tensorflow-gpu 2.0.0 requires tensorboard<2.1.0,>=2.0.0, but you have tensorboard 2.8.0 which is incompatible.\n",
      "tensorflow-gpu 2.0.0 requires tensorflow-estimator<2.1.0,>=2.0.0, but you have tensorflow-estimator 2.3.0 which is incompatible.\n"
     ]
    },
    {
     "name": "stdout",
     "output_type": "stream",
     "text": [
      "Collecting tensorboard==2.4.1\n",
      "  Downloading tensorboard-2.4.1-py3-none-any.whl (10.6 MB)\n",
      "Requirement already satisfied: setuptools>=41.0.0 in c:\\users\\pyare\\anaconda3\\envs\\dl\\lib\\site-packages (from tensorboard==2.4.1) (58.0.4)"
     ]
    },
    {
     "name": "stderr",
     "output_type": "stream",
     "text": [
      "ERROR: pip's dependency resolver does not currently take into account all the packages that are installed. This behaviour is the source of the following dependency conflicts.\n",
      "tensorflow-gpu 2.0.0 requires gast==0.2.2, but you have gast 0.3.3 which is incompatible.\n",
      "tensorflow-gpu 2.0.0 requires tensorboard<2.1.0,>=2.0.0, but you have tensorboard 2.4.1 which is incompatible.\n",
      "tensorflow-gpu 2.0.0 requires tensorflow-estimator<2.1.0,>=2.0.0, but you have tensorflow-estimator 2.3.0 which is incompatible.\n"
     ]
    },
    {
     "name": "stdout",
     "output_type": "stream",
     "text": [
      "\n",
      "Requirement already satisfied: markdown>=2.6.8 in c:\\users\\pyare\\anaconda3\\envs\\dl\\lib\\site-packages (from tensorboard==2.4.1) (3.3.4)\n",
      "Requirement already satisfied: google-auth-oauthlib<0.5,>=0.4.1 in c:\\users\\pyare\\anaconda3\\envs\\dl\\lib\\site-packages (from tensorboard==2.4.1) (0.4.6)\n",
      "Requirement already satisfied: werkzeug>=0.11.15 in c:\\users\\pyare\\anaconda3\\envs\\dl\\lib\\site-packages (from tensorboard==2.4.1) (2.0.2)\n",
      "Requirement already satisfied: grpcio>=1.24.3 in c:\\users\\pyare\\anaconda3\\envs\\dl\\lib\\site-packages (from tensorboard==2.4.1) (1.41.1)\n",
      "Requirement already satisfied: wheel>=0.26 in c:\\users\\pyare\\anaconda3\\envs\\dl\\lib\\site-packages (from tensorboard==2.4.1) (0.37.0)\n",
      "Requirement already satisfied: google-auth<2,>=1.6.3 in c:\\users\\pyare\\anaconda3\\envs\\dl\\lib\\site-packages (from tensorboard==2.4.1) (1.35.0)\n",
      "Requirement already satisfied: protobuf>=3.6.0 in c:\\users\\pyare\\anaconda3\\envs\\dl\\lib\\site-packages (from tensorboard==2.4.1) (3.19.1)\n",
      "Requirement already satisfied: six>=1.10.0 in c:\\users\\pyare\\anaconda3\\envs\\dl\\lib\\site-packages (from tensorboard==2.4.1) (1.16.0)\n",
      "Requirement already satisfied: requests<3,>=2.21.0 in c:\\users\\pyare\\anaconda3\\envs\\dl\\lib\\site-packages (from tensorboard==2.4.1) (2.26.0)\n",
      "Requirement already satisfied: tensorboard-plugin-wit>=1.6.0 in c:\\users\\pyare\\anaconda3\\envs\\dl\\lib\\site-packages (from tensorboard==2.4.1) (1.8.0)\n",
      "Requirement already satisfied: numpy>=1.12.0 in c:\\users\\pyare\\anaconda3\\envs\\dl\\lib\\site-packages (from tensorboard==2.4.1) (1.18.5)\n",
      "Requirement already satisfied: absl-py>=0.4 in c:\\users\\pyare\\anaconda3\\envs\\dl\\lib\\site-packages (from tensorboard==2.4.1) (1.0.0)\n",
      "Requirement already satisfied: cachetools<5.0,>=2.0.0 in c:\\users\\pyare\\anaconda3\\envs\\dl\\lib\\site-packages (from google-auth<2,>=1.6.3->tensorboard==2.4.1) (4.2.4)\n",
      "Requirement already satisfied: rsa<5,>=3.1.4 in c:\\users\\pyare\\anaconda3\\envs\\dl\\lib\\site-packages (from google-auth<2,>=1.6.3->tensorboard==2.4.1) (4.7.2)\n",
      "Requirement already satisfied: pyasn1-modules>=0.2.1 in c:\\users\\pyare\\anaconda3\\envs\\dl\\lib\\site-packages (from google-auth<2,>=1.6.3->tensorboard==2.4.1) (0.2.8)\n",
      "Requirement already satisfied: requests-oauthlib>=0.7.0 in c:\\users\\pyare\\anaconda3\\envs\\dl\\lib\\site-packages (from google-auth-oauthlib<0.5,>=0.4.1->tensorboard==2.4.1) (1.3.0)\n",
      "Requirement already satisfied: importlib-metadata in c:\\users\\pyare\\anaconda3\\envs\\dl\\lib\\site-packages (from markdown>=2.6.8->tensorboard==2.4.1) (4.8.2)\n",
      "Requirement already satisfied: urllib3<1.27,>=1.21.1 in c:\\users\\pyare\\anaconda3\\envs\\dl\\lib\\site-packages (from requests<3,>=2.21.0->tensorboard==2.4.1) (1.26.7)\n",
      "Requirement already satisfied: certifi>=2017.4.17 in c:\\users\\pyare\\anaconda3\\envs\\dl\\lib\\site-packages (from requests<3,>=2.21.0->tensorboard==2.4.1) (2021.5.30)\n",
      "Requirement already satisfied: idna<4,>=2.5 in c:\\users\\pyare\\anaconda3\\envs\\dl\\lib\\site-packages (from requests<3,>=2.21.0->tensorboard==2.4.1) (3.3)\n",
      "Requirement already satisfied: charset-normalizer~=2.0.0 in c:\\users\\pyare\\anaconda3\\envs\\dl\\lib\\site-packages (from requests<3,>=2.21.0->tensorboard==2.4.1) (2.0.7)\n",
      "Requirement already satisfied: dataclasses in c:\\users\\pyare\\anaconda3\\envs\\dl\\lib\\site-packages (from werkzeug>=0.11.15->tensorboard==2.4.1) (0.8)\n",
      "Requirement already satisfied: pyasn1<0.5.0,>=0.4.6 in c:\\users\\pyare\\anaconda3\\envs\\dl\\lib\\site-packages (from pyasn1-modules>=0.2.1->google-auth<2,>=1.6.3->tensorboard==2.4.1) (0.4.8)\n",
      "Requirement already satisfied: oauthlib>=3.0.0 in c:\\users\\pyare\\anaconda3\\envs\\dl\\lib\\site-packages (from requests-oauthlib>=0.7.0->google-auth-oauthlib<0.5,>=0.4.1->tensorboard==2.4.1) (3.1.1)\n",
      "Requirement already satisfied: zipp>=0.5 in c:\\users\\pyare\\anaconda3\\envs\\dl\\lib\\site-packages (from importlib-metadata->markdown>=2.6.8->tensorboard==2.4.1) (3.6.0)\n",
      "Requirement already satisfied: typing-extensions>=3.6.4 in c:\\users\\pyare\\anaconda3\\envs\\dl\\lib\\site-packages (from importlib-metadata->markdown>=2.6.8->tensorboard==2.4.1) (3.10.0.2)\n",
      "Installing collected packages: tensorboard\n",
      "  Attempting uninstall: tensorboard\n",
      "    Found existing installation: tensorboard 2.8.0\n",
      "    Uninstalling tensorboard-2.8.0:\n",
      "      Successfully uninstalled tensorboard-2.8.0\n",
      "Successfully installed tensorboard-2.4.1\n"
     ]
    },
    {
     "name": "stderr",
     "output_type": "stream",
     "text": [
      "ERROR: Invalid requirement: '#YOLOv5'\n"
     ]
    }
   ],
   "source": [
    "!python -m pip install --upgrade pip\n",
    "\n",
    "!pip install tensorflow==2.3.1 \n",
    "\n",
    "!pip install tensorboard==2.4.1\n",
    "!pip install torch  #YOLOv5 runs on top of PyTorch, so we need to import it to the notebook"
   ]
  },
  {
   "cell_type": "code",
   "execution_count": 2,
   "id": "7bdbd27b",
   "metadata": {},
   "outputs": [],
   "source": [
    "import torch # YOLOv5 implemented using pytorch"
   ]
  },
  {
   "cell_type": "code",
   "execution_count": 3,
   "id": "22a5de6c",
   "metadata": {},
   "outputs": [],
   "source": [
    "from IPython.display import Image #this is to render predictions"
   ]
  },
  {
   "cell_type": "code",
   "execution_count": 3,
   "id": "df1694fd",
   "metadata": {
    "scrolled": true
   },
   "outputs": [
    {
     "name": "stderr",
     "output_type": "stream",
     "text": [
      "Cloning into 'yolov5'...\n"
     ]
    }
   ],
   "source": [
    "#!git clone https://github.com/ultralytics/yolov5"
   ]
  },
  {
   "cell_type": "code",
   "execution_count": 4,
   "id": "3b9fbdc1",
   "metadata": {
    "scrolled": true
   },
   "outputs": [
    {
     "name": "stdout",
     "output_type": "stream",
     "text": [
      "C:\\Users\\pyare\\python proj\\GalaxEye\\GalaxEye\\yolov5\n"
     ]
    }
   ],
   "source": [
    "%cd yolov5"
   ]
  },
  {
   "cell_type": "code",
   "execution_count": 5,
   "id": "b1e2c64d",
   "metadata": {
    "scrolled": true
   },
   "outputs": [
    {
     "name": "stdout",
     "output_type": "stream",
     "text": [
      "Requirement already satisfied: matplotlib>=3.2.2 in c:\\users\\pyare\\anaconda3\\envs\\dl\\lib\\site-packages (from -r requirements.txt (line 4)) (3.3.4)\n",
      "Requirement already satisfied: numpy>=1.18.5 in c:\\users\\pyare\\anaconda3\\envs\\dl\\lib\\site-packages (from -r requirements.txt (line 5)) (1.18.5)\n",
      "Collecting opencv-python>=4.1.2\n",
      "  Downloading opencv_python-4.5.5.62-cp36-abi3-win_amd64.whl (35.4 MB)\n",
      "Requirement already satisfied: Pillow>=7.1.2 in c:\\users\\pyare\\anaconda3\\envs\\dl\\lib\\site-packages (from -r requirements.txt (line 7)) (8.4.0)\n",
      "Requirement already satisfied: PyYAML>=5.3.1 in c:\\users\\pyare\\anaconda3\\envs\\dl\\lib\\site-packages (from -r requirements.txt (line 8)) (5.4.1)\n",
      "Requirement already satisfied: requests>=2.23.0 in c:\\users\\pyare\\anaconda3\\envs\\dl\\lib\\site-packages (from -r requirements.txt (line 9)) (2.26.0)\n",
      "Requirement already satisfied: scipy>=1.4.1 in c:\\users\\pyare\\anaconda3\\envs\\dl\\lib\\site-packages (from -r requirements.txt (line 10)) (1.5.3)\n",
      "Requirement already satisfied: torch>=1.7.0 in c:\\users\\pyare\\anaconda3\\envs\\dl\\lib\\site-packages (from -r requirements.txt (line 11)) (1.10.0)\n",
      "Requirement already satisfied: torchvision>=0.8.1 in c:\\users\\pyare\\anaconda3\\envs\\dl\\lib\\site-packages (from -r requirements.txt (line 12)) (0.11.1)\n",
      "Requirement already satisfied: tqdm>=4.41.0 in c:\\users\\pyare\\anaconda3\\envs\\dl\\lib\\site-packages (from -r requirements.txt (line 13)) (4.62.3)\n",
      "Requirement already satisfied: tensorboard>=2.4.1 in c:\\users\\pyare\\anaconda3\\envs\\dl\\lib\\site-packages (from -r requirements.txt (line 16)) (2.4.1)\n",
      "Collecting pandas>=1.1.4\n",
      "  Downloading pandas-1.1.5-cp36-cp36m-win_amd64.whl (8.7 MB)\n",
      "Collecting seaborn>=0.11.0\n",
      "  Downloading seaborn-0.11.2-py3-none-any.whl (292 kB)\n",
      "Collecting thop\n",
      "  Downloading thop-0.0.31.post2005241907-py3-none-any.whl (8.7 kB)\n",
      "Requirement already satisfied: kiwisolver>=1.0.1 in c:\\users\\pyare\\anaconda3\\envs\\dl\\lib\\site-packages (from matplotlib>=3.2.2->-r requirements.txt (line 4)) (1.3.1)\n",
      "Requirement already satisfied: pyparsing!=2.0.4,!=2.1.2,!=2.1.6,>=2.0.3 in c:\\users\\pyare\\anaconda3\\envs\\dl\\lib\\site-packages (from matplotlib>=3.2.2->-r requirements.txt (line 4)) (2.4.7)\n",
      "Requirement already satisfied: python-dateutil>=2.1 in c:\\users\\pyare\\anaconda3\\envs\\dl\\lib\\site-packages (from matplotlib>=3.2.2->-r requirements.txt (line 4)) (2.8.2)\n",
      "Requirement already satisfied: cycler>=0.10 in c:\\users\\pyare\\anaconda3\\envs\\dl\\lib\\site-packages (from matplotlib>=3.2.2->-r requirements.txt (line 4)) (0.11.0)\n",
      "Requirement already satisfied: charset-normalizer~=2.0.0 in c:\\users\\pyare\\anaconda3\\envs\\dl\\lib\\site-packages (from requests>=2.23.0->-r requirements.txt (line 9)) (2.0.7)\n",
      "Requirement already satisfied: certifi>=2017.4.17 in c:\\users\\pyare\\anaconda3\\envs\\dl\\lib\\site-packages (from requests>=2.23.0->-r requirements.txt (line 9)) (2021.5.30)\n",
      "Requirement already satisfied: urllib3<1.27,>=1.21.1 in c:\\users\\pyare\\anaconda3\\envs\\dl\\lib\\site-packages (from requests>=2.23.0->-r requirements.txt (line 9)) (1.26.7)\n",
      "Requirement already satisfied: idna<4,>=2.5 in c:\\users\\pyare\\anaconda3\\envs\\dl\\lib\\site-packages (from requests>=2.23.0->-r requirements.txt (line 9)) (3.3)\n",
      "Requirement already satisfied: typing_extensions in c:\\users\\pyare\\anaconda3\\envs\\dl\\lib\\site-packages (from torch>=1.7.0->-r requirements.txt (line 11)) (3.10.0.2)\n",
      "Requirement already satisfied: dataclasses in c:\\users\\pyare\\anaconda3\\envs\\dl\\lib\\site-packages (from torch>=1.7.0->-r requirements.txt (line 11)) (0.8)\n",
      "Requirement already satisfied: colorama in c:\\users\\pyare\\anaconda3\\envs\\dl\\lib\\site-packages (from tqdm>=4.41.0->-r requirements.txt (line 13)) (0.4.4)\n",
      "Requirement already satisfied: setuptools>=41.0.0 in c:\\users\\pyare\\anaconda3\\envs\\dl\\lib\\site-packages (from tensorboard>=2.4.1->-r requirements.txt (line 16)) (58.0.4)\n",
      "Requirement already satisfied: wheel>=0.26 in c:\\users\\pyare\\anaconda3\\envs\\dl\\lib\\site-packages (from tensorboard>=2.4.1->-r requirements.txt (line 16)) (0.37.0)\n",
      "Requirement already satisfied: absl-py>=0.4 in c:\\users\\pyare\\anaconda3\\envs\\dl\\lib\\site-packages (from tensorboard>=2.4.1->-r requirements.txt (line 16)) (1.0.0)\n",
      "Requirement already satisfied: werkzeug>=0.11.15 in c:\\users\\pyare\\anaconda3\\envs\\dl\\lib\\site-packages (from tensorboard>=2.4.1->-r requirements.txt (line 16)) (2.0.2)\n",
      "Requirement already satisfied: markdown>=2.6.8 in c:\\users\\pyare\\anaconda3\\envs\\dl\\lib\\site-packages (from tensorboard>=2.4.1->-r requirements.txt (line 16)) (3.3.4)\n",
      "Requirement already satisfied: grpcio>=1.24.3 in c:\\users\\pyare\\anaconda3\\envs\\dl\\lib\\site-packages (from tensorboard>=2.4.1->-r requirements.txt (line 16)) (1.41.1)\n",
      "Requirement already satisfied: six>=1.10.0 in c:\\users\\pyare\\anaconda3\\envs\\dl\\lib\\site-packages (from tensorboard>=2.4.1->-r requirements.txt (line 16)) (1.16.0)\n",
      "Requirement already satisfied: tensorboard-plugin-wit>=1.6.0 in c:\\users\\pyare\\anaconda3\\envs\\dl\\lib\\site-packages (from tensorboard>=2.4.1->-r requirements.txt (line 16)) (1.8.0)\n",
      "Requirement already satisfied: google-auth<2,>=1.6.3 in c:\\users\\pyare\\anaconda3\\envs\\dl\\lib\\site-packages (from tensorboard>=2.4.1->-r requirements.txt (line 16)) (1.35.0)\n",
      "Requirement already satisfied: google-auth-oauthlib<0.5,>=0.4.1 in c:\\users\\pyare\\anaconda3\\envs\\dl\\lib\\site-packages (from tensorboard>=2.4.1->-r requirements.txt (line 16)) (0.4.6)\n",
      "Requirement already satisfied: protobuf>=3.6.0 in c:\\users\\pyare\\anaconda3\\envs\\dl\\lib\\site-packages (from tensorboard>=2.4.1->-r requirements.txt (line 16)) (3.19.1)\n",
      "Requirement already satisfied: pytz>=2017.2 in c:\\users\\pyare\\anaconda3\\envs\\dl\\lib\\site-packages (from pandas>=1.1.4->-r requirements.txt (line 20)) (2021.3)\n",
      "Requirement already satisfied: pyasn1-modules>=0.2.1 in c:\\users\\pyare\\anaconda3\\envs\\dl\\lib\\site-packages (from google-auth<2,>=1.6.3->tensorboard>=2.4.1->-r requirements.txt (line 16)) (0.2.8)\n",
      "Requirement already satisfied: rsa<5,>=3.1.4 in c:\\users\\pyare\\anaconda3\\envs\\dl\\lib\\site-packages (from google-auth<2,>=1.6.3->tensorboard>=2.4.1->-r requirements.txt (line 16)) (4.7.2)\n",
      "Requirement already satisfied: cachetools<5.0,>=2.0.0 in c:\\users\\pyare\\anaconda3\\envs\\dl\\lib\\site-packages (from google-auth<2,>=1.6.3->tensorboard>=2.4.1->-r requirements.txt (line 16)) (4.2.4)\n",
      "Requirement already satisfied: requests-oauthlib>=0.7.0 in c:\\users\\pyare\\anaconda3\\envs\\dl\\lib\\site-packages (from google-auth-oauthlib<0.5,>=0.4.1->tensorboard>=2.4.1->-r requirements.txt (line 16)) (1.3.0)\n",
      "Requirement already satisfied: importlib-metadata in c:\\users\\pyare\\anaconda3\\envs\\dl\\lib\\site-packages (from markdown>=2.6.8->tensorboard>=2.4.1->-r requirements.txt (line 16)) (4.8.2)\n",
      "Requirement already satisfied: pyasn1<0.5.0,>=0.4.6 in c:\\users\\pyare\\anaconda3\\envs\\dl\\lib\\site-packages (from pyasn1-modules>=0.2.1->google-auth<2,>=1.6.3->tensorboard>=2.4.1->-r requirements.txt (line 16)) (0.4.8)\n",
      "Requirement already satisfied: oauthlib>=3.0.0 in c:\\users\\pyare\\anaconda3\\envs\\dl\\lib\\site-packages (from requests-oauthlib>=0.7.0->google-auth-oauthlib<0.5,>=0.4.1->tensorboard>=2.4.1->-r requirements.txt (line 16)) (3.1.1)\n",
      "Requirement already satisfied: zipp>=0.5 in c:\\users\\pyare\\anaconda3\\envs\\dl\\lib\\site-packages (from importlib-metadata->markdown>=2.6.8->tensorboard>=2.4.1->-r requirements.txt (line 16)) (3.6.0)\n",
      "Installing collected packages: pandas, thop, seaborn, opencv-python\n",
      "  Attempting uninstall: pandas\n",
      "    Found existing installation: pandas 0.25.3\n",
      "    Uninstalling pandas-0.25.3:\n",
      "      Successfully uninstalled pandas-0.25.3\n",
      "Successfully installed opencv-python-4.5.5.62 pandas-1.1.5 seaborn-0.11.2 thop-0.0.31.post2005241907\n"
     ]
    }
   ],
   "source": [
    "!pip install -r requirements.txt"
   ]
  },
  {
   "cell_type": "markdown",
   "id": "22e7383f",
   "metadata": {},
   "source": [
    "## Dividing the data inta train and validation as 80% and 20% respectively"
   ]
  },
  {
   "cell_type": "code",
   "execution_count": 9,
   "id": "219621a1",
   "metadata": {},
   "outputs": [
    {
     "name": "stdout",
     "output_type": "stream",
     "text": [
      "training images are :  6574\n",
      "Validation images are :  1643\n"
     ]
    }
   ],
   "source": [
    "# \n",
    "import os\n",
    "from random import choice\n",
    "import shutil\n",
    "#arrays to store file names\n",
    "imgs =[]\n",
    "xmls =[]\n",
    "# setup dir names\n",
    "trainPath = \"D:/Git Challenges/GalaxEye/dataset/images/train\"\n",
    "valPath = \"D:/Git Challenges/GalaxEye/dataset/images/val\"\n",
    "crsPath = \"D:/Git Challenges/GalaxEye/archive/train/data/\" #dir where images and annotations stored\n",
    "\n",
    "#setup ratio (val ratio = rest of the files in origin dir after splitting into train and test)\n",
    "train_ratio = 0.8\n",
    "val_ratio = 0.2\n",
    "\n",
    "\n",
    "#total count of imgs\n",
    "totalImgCount = len(os.listdir(crsPath))/2\n",
    "\n",
    "#soring files to corresponding arrays\n",
    "for (dirname, dirs, files) in os.walk(crsPath):\n",
    "    for filename in files:\n",
    "        if filename.endswith('.txt'):\n",
    "            xmls.append(filename)\n",
    "        else:\n",
    "            imgs.append(filename)\n",
    "\n",
    "\n",
    "#counting range for cycles\n",
    "countForTrain = int(len(imgs)*train_ratio)\n",
    "countForVal = int(len(imgs)*val_ratio)\n",
    "print(\"training images are : \",countForTrain)\n",
    "print(\"Validation images are : \",countForVal)"
   ]
  },
  {
   "cell_type": "code",
   "execution_count": 18,
   "id": "657aa186",
   "metadata": {
    "scrolled": true
   },
   "outputs": [
    {
     "data": {
      "text/plain": [
       "'D:/Git Challenges/GalaxEye/dataset/images/val\\\\data'"
      ]
     },
     "execution_count": 18,
     "metadata": {},
     "output_type": "execute_result"
    }
   ],
   "source": [
    "trainimagePath = r\"D:\\Git Challenges\\GalaxEye\\dataset\\images\\train\"\n",
    "trainlabelPath = r\"D:\\Git Challenges\\GalaxEye\\dataset\\labels\\train\"\n",
    "valimagePath = r\"D:\\Git Challenges\\GalaxEye\\dataset\\images\\val\"\n",
    "vallabelPath = r\"D:\\Git Challenges\\GalaxEye\\dataset\\labels\\val\"\n",
    "#cycle for train dir\n",
    "for x in range(countForTrain):\n",
    "\n",
    "    fileJpg = choice(imgs) # get name of random image from origin dir\n",
    "    \n",
    "    fileXml = fileJpg[:-4] +'.txt' # get name of corresponding annotation file\n",
    "\n",
    "    #move both files into train dir\n",
    "    shutil.copy(os.path.join(crsPath, fileJpg), os.path.join(trainimagePath, fileJpg))\n",
    "    shutil.copy(os.path.join(crsPath, fileXml), os.path.join(trainlabelPath, fileXml))\n",
    "\n",
    "\n",
    "    #remove files from arrays\n",
    "    imgs.remove(fileJpg)\n",
    "    xmls.remove(fileXml)\n",
    "\n",
    "\n",
    "\n",
    "#cycle for test dir   \n",
    "for x in range(countForVal):\n",
    "\n",
    "    fileJpg = choice(imgs) # get name of random image from origin dir\n",
    "    fileXml = fileJpg[:-4] +'.txt' # get name of corresponding annotation file\n",
    "\n",
    "    #move both files into train dir\n",
    "    shutil.copy(os.path.join(crsPath, fileJpg), os.path.join(valimagePath, fileJpg))\n",
    "    shutil.copy(os.path.join(crsPath, fileXml), os.path.join(vallabelPath, fileXml))\n",
    "    \n",
    "    #remove files from arrays\n",
    "    imgs.remove(fileJpg)\n",
    "    xmls.remove(fileXml)\n",
    "\n",
    "#rest of files will be validation files, so rename origin dir to val dir\n",
    "#os.rename(crsPath, valPath)\n",
    "shutil.move(crsPath, valPath) \n",
    "\n",
    "\n"
   ]
  },
  {
   "cell_type": "code",
   "execution_count": 9,
   "id": "7864c39b",
   "metadata": {},
   "outputs": [
    {
     "data": {
      "text/plain": [
       "'C:\\\\Users\\\\pyare\\\\python proj\\\\GalaxEye\\\\GalaxEye\\\\yolov5'"
      ]
     },
     "execution_count": 9,
     "metadata": {},
     "output_type": "execute_result"
    }
   ],
   "source": [
    "pwd"
   ]
  },
  {
   "cell_type": "code",
   "execution_count": 11,
   "id": "742bfb60",
   "metadata": {},
   "outputs": [
    {
     "name": "stdout",
     "output_type": "stream",
     "text": [
      "Downloading https://ultralytics.com/assets/Arial.ttf to C:\\Users\\pyare\\AppData\\Roaming\\Ultralytics\\Arial.ttf...\n",
      "\u001b[34m\u001b[1mgithub: \u001b[0mCommand 'git fetch && git config --get remote.origin.url' returned non-zero exit status 1.\n",
      "\u001b[34m\u001b[1mgithub: \u001b[0mCommand 'git fetch && git config --get remote.origin.url' returned non-zero exit status 1.\n"
     ]
    },
    {
     "name": "stderr",
     "output_type": "stream",
     "text": [
      "\u001b[34m\u001b[1mtrain: \u001b[0mweights=yolov5s.pt, cfg=, data=dataset.yaml, hyp=data\\hyps\\hyp.scratch.yaml, epochs=30, batch_size=16, imgsz=415, rect=False, resume=False, nosave=False, noval=False, noautoanchor=False, evolve=None, bucket=, cache=ram, image_weights=False, device=, multi_scale=False, single_cls=False, optimizer=SGD, sync_bn=False, workers=8, project=runs\\train, name=exp, exist_ok=False, quad=False, linear_lr=False, label_smoothing=0.0, patience=100, freeze=[0], save_period=-1, local_rank=-1, entity=None, upload_dataset=False, bbox_interval=-1, artifact_alias=latest\n",
      "'git' is not recognized as an internal or external command,\n",
      "operable program or batch file.\n",
      "YOLOv5  2022-1-23 torch 1.10.0 CUDA:0 (GeForce GTX 1650, 4096MiB)\n",
      "\n",
      "\u001b[34m\u001b[1mhyperparameters: \u001b[0mlr0=0.01, lrf=0.1, momentum=0.937, weight_decay=0.0005, warmup_epochs=3.0, warmup_momentum=0.8, warmup_bias_lr=0.1, box=0.05, cls=0.5, cls_pw=1.0, obj=1.0, obj_pw=1.0, iou_t=0.2, anchor_t=4.0, fl_gamma=0.0, hsv_h=0.015, hsv_s=0.7, hsv_v=0.4, degrees=0.0, translate=0.1, scale=0.5, shear=0.0, perspective=0.0, flipud=0.0, fliplr=0.5, mosaic=1.0, mixup=0.0, copy_paste=0.0\n",
      "\u001b[34m\u001b[1mTensorBoard: \u001b[0mStart with 'tensorboard --logdir runs\\train', view at http://localhost:6006/\n",
      "2022-01-23 16:20:32.763689: W tensorflow/stream_executor/platform/default/dso_loader.cc:59] Could not load dynamic library 'cudart64_101.dll'; dlerror: cudart64_101.dll not found\n",
      "2022-01-23 16:20:32.764262: I tensorflow/stream_executor/cuda/cudart_stub.cc:29] Ignore above cudart dlerror if you do not have a GPU set up on your machine.\n",
      "wandb: W&B is a tool that helps track and visualize machine learning experiments\n",
      "wandb: No credentials found.  Run \"wandb login\" to visualize your metrics\n",
      "wandb: Tracking run with wandb version 0.8.36\n",
      "Traceback (most recent call last):\n",
      "  File \"C:\\Users\\pyare\\anaconda3\\envs\\dl\\lib\\site-packages\\wandb\\internal_cli.py\", line 106, in <module>\n",
      "    main()\n",
      "  File \"C:\\Users\\pyare\\anaconda3\\envs\\dl\\lib\\site-packages\\wandb\\internal_cli.py\", line 98, in main\n",
      "    headless(args)\n",
      "  File \"C:\\Users\\pyare\\anaconda3\\envs\\dl\\lib\\site-packages\\wandb\\internal_cli.py\", line 54, in headless\n",
      "    util.sentry_reraise(e)\n",
      "  File \"C:\\Users\\pyare\\anaconda3\\envs\\dl\\lib\\site-packages\\wandb\\util.py\", line 94, in sentry_reraise\n",
      "    six.reraise(type(exc), exc, sys.exc_info()[2])\n",
      "  File \"C:\\Users\\pyare\\anaconda3\\envs\\dl\\lib\\site-packages\\six.py\", line 719, in reraise\n",
      "    raise value\n",
      "  File \"C:\\Users\\pyare\\anaconda3\\envs\\dl\\lib\\site-packages\\wandb\\internal_cli.py\", line 52, in headless\n",
      "    user_process_pid, stdout_master_fd, stderr_master_fd)\n",
      "  File \"C:\\Users\\pyare\\anaconda3\\envs\\dl\\lib\\site-packages\\wandb\\run_manager.py\", line 1141, in wrap_existing_process\n",
      "    stderr_read_file = os.fdopen(stderr_read_fd, 'rb')\n",
      "  File \"C:\\Users\\pyare\\anaconda3\\envs\\dl\\lib\\os.py\", line 1017, in fdopen\n",
      "    return io.open(fd, *args, **kwargs)\n",
      "OSError: [WinError 6] The handle is invalid\n",
      "wandb: ERROR W&B process (PID 3952) did not respond\n",
      "wandb: ERROR W&B process failed to launch, see: C:\\Users\\pyare\\AppData\\Local\\Temp\\wandb-debug.log\n",
      "Traceback (most recent call last):\n",
      "  File \"train.py\", line 638, in <module>\n",
      "    main(opt)\n",
      "  File \"train.py\", line 535, in main\n",
      "    train(opt.hyp, opt, device, callbacks)\n",
      "  File \"train.py\", line 95, in train\n",
      "    loggers = Loggers(save_dir, weights, opt, hyp, LOGGER)  # loggers instance\n",
      "  File \"C:\\Users\\pyare\\python proj\\GalaxEye\\GalaxEye\\yolov5\\utils\\loggers\\__init__.py\", line 73, in __init__\n",
      "    self.wandb = WandbLogger(self.opt, run_id)\n",
      "  File \"C:\\Users\\pyare\\python proj\\GalaxEye\\GalaxEye\\yolov5\\utils\\loggers\\wandb\\wandb_utils.py\", line 166, in __init__\n",
      "    allow_val_change=True) if not wandb.run else wandb.run\n",
      "  File \"C:\\Users\\pyare\\anaconda3\\envs\\dl\\lib\\site-packages\\wandb\\__init__.py\", line 1119, in init\n",
      "    _init_headless(run, False)\n",
      "  File \"C:\\Users\\pyare\\anaconda3\\envs\\dl\\lib\\site-packages\\wandb\\__init__.py\", line 310, in _init_headless\n",
      "    \"W&B process failed to launch, see: {}\".format(path))\n",
      "wandb.run_manager.LaunchError: W&B process failed to launch, see: C:\\Users\\pyare\\AppData\\Local\\Temp\\wandb-debug.log\n",
      "\u001b[34m\u001b[1mtrain: \u001b[0mweights=yolov5s.pt, cfg=, data=dataset.yaml, hyp=data\\hyps\\hyp.scratch.yaml, epochs=30, batch_size=16, imgsz=400, rect=False, resume=False, nosave=False, noval=False, noautoanchor=False, evolve=None, bucket=, cache=ram, image_weights=False, device=, multi_scale=False, single_cls=False, optimizer=SGD, sync_bn=False, workers=8, project=runs\\train, name=exp, exist_ok=False, quad=False, linear_lr=False, label_smoothing=0.0, patience=100, freeze=[0], save_period=-1, local_rank=-1, entity=None, upload_dataset=False, bbox_interval=-1, artifact_alias=latest\n",
      "'git' is not recognized as an internal or external command,\n",
      "operable program or batch file.\n",
      "YOLOv5  2022-1-23 torch 1.10.0 CUDA:0 (GeForce GTX 1650, 4096MiB)\n",
      "\n",
      "\u001b[34m\u001b[1mhyperparameters: \u001b[0mlr0=0.01, lrf=0.1, momentum=0.937, weight_decay=0.0005, warmup_epochs=3.0, warmup_momentum=0.8, warmup_bias_lr=0.1, box=0.05, cls=0.5, cls_pw=1.0, obj=1.0, obj_pw=1.0, iou_t=0.2, anchor_t=4.0, fl_gamma=0.0, hsv_h=0.015, hsv_s=0.7, hsv_v=0.4, degrees=0.0, translate=0.1, scale=0.5, shear=0.0, perspective=0.0, flipud=0.0, fliplr=0.5, mosaic=1.0, mixup=0.0, copy_paste=0.0\n",
      "\u001b[34m\u001b[1mTensorBoard: \u001b[0mStart with 'tensorboard --logdir runs\\train', view at http://localhost:6006/\n",
      "2022-01-23 16:20:32.763689: W tensorflow/stream_executor/platform/default/dso_loader.cc:59] Could not load dynamic library 'cudart64_101.dll'; dlerror: cudart64_101.dll not found\n",
      "2022-01-23 16:20:32.764262: I tensorflow/stream_executor/cuda/cudart_stub.cc:29] Ignore above cudart dlerror if you do not have a GPU set up on your machine.\n",
      "wandb: W&B is a tool that helps track and visualize machine learning experiments\n",
      "wandb: No credentials found.  Run \"wandb login\" to visualize your metrics\n",
      "wandb: Tracking run with wandb version 0.8.36\n",
      "Traceback (most recent call last):\n",
      "  File \"C:\\Users\\pyare\\anaconda3\\envs\\dl\\lib\\site-packages\\wandb\\internal_cli.py\", line 106, in <module>\n",
      "    main()\n",
      "  File \"C:\\Users\\pyare\\anaconda3\\envs\\dl\\lib\\site-packages\\wandb\\internal_cli.py\", line 98, in main\n",
      "    headless(args)\n",
      "  File \"C:\\Users\\pyare\\anaconda3\\envs\\dl\\lib\\site-packages\\wandb\\internal_cli.py\", line 54, in headless\n",
      "    util.sentry_reraise(e)\n",
      "  File \"C:\\Users\\pyare\\anaconda3\\envs\\dl\\lib\\site-packages\\wandb\\util.py\", line 94, in sentry_reraise\n",
      "    six.reraise(type(exc), exc, sys.exc_info()[2])\n",
      "  File \"C:\\Users\\pyare\\anaconda3\\envs\\dl\\lib\\site-packages\\six.py\", line 719, in reraise\n",
      "    raise value\n",
      "  File \"C:\\Users\\pyare\\anaconda3\\envs\\dl\\lib\\site-packages\\wandb\\internal_cli.py\", line 52, in headless\n",
      "    user_process_pid, stdout_master_fd, stderr_master_fd)\n",
      "  File \"C:\\Users\\pyare\\anaconda3\\envs\\dl\\lib\\site-packages\\wandb\\run_manager.py\", line 1141, in wrap_existing_process\n",
      "    stderr_read_file = os.fdopen(stderr_read_fd, 'rb')\n",
      "  File \"C:\\Users\\pyare\\anaconda3\\envs\\dl\\lib\\os.py\", line 1017, in fdopen\n",
      "    return io.open(fd, *args, **kwargs)\n",
      "OSError: [WinError 6] The handle is invalid\n",
      "wandb: ERROR W&B process (PID 13256) did not respond\n",
      "wandb: ERROR W&B process failed to launch, see: C:\\Users\\pyare\\AppData\\Local\\Temp\\wandb-debug.log\n",
      "Traceback (most recent call last):\n",
      "  File \"train.py\", line 638, in <module>\n",
      "    main(opt)\n",
      "  File \"train.py\", line 535, in main\n",
      "    train(opt.hyp, opt, device, callbacks)\n",
      "  File \"train.py\", line 95, in train\n",
      "    loggers = Loggers(save_dir, weights, opt, hyp, LOGGER)  # loggers instance\n",
      "  File \"C:\\Users\\pyare\\python proj\\GalaxEye\\GalaxEye\\yolov5\\utils\\loggers\\__init__.py\", line 73, in __init__\n",
      "    self.wandb = WandbLogger(self.opt, run_id)\n",
      "  File \"C:\\Users\\pyare\\python proj\\GalaxEye\\GalaxEye\\yolov5\\utils\\loggers\\wandb\\wandb_utils.py\", line 166, in __init__\n",
      "    allow_val_change=True) if not wandb.run else wandb.run\n",
      "  File \"C:\\Users\\pyare\\anaconda3\\envs\\dl\\lib\\site-packages\\wandb\\__init__.py\", line 1119, in init\n",
      "    _init_headless(run, False)\n",
      "  File \"C:\\Users\\pyare\\anaconda3\\envs\\dl\\lib\\site-packages\\wandb\\__init__.py\", line 310, in _init_headless\n",
      "    \"W&B process failed to launch, see: {}\".format(path))\n",
      "wandb.run_manager.LaunchError: W&B process failed to launch, see: C:\\Users\\pyare\\AppData\\Local\\Temp\\wandb-debug.log\n"
     ]
    }
   ],
   "source": [
    "!python train.py --img 400 --batch 16 --epochs 30 --data dataset.yaml --weights yolov5s.pt --cache"
   ]
  },
  {
   "cell_type": "code",
   "execution_count": null,
   "id": "ea51f063",
   "metadata": {},
   "outputs": [],
   "source": []
  },
  {
   "cell_type": "code",
   "execution_count": null,
   "id": "9ddddd4f",
   "metadata": {},
   "outputs": [],
   "source": []
  },
  {
   "cell_type": "code",
   "execution_count": null,
   "id": "737381d3",
   "metadata": {},
   "outputs": [],
   "source": []
  },
  {
   "cell_type": "code",
   "execution_count": null,
   "id": "9dc7d787",
   "metadata": {},
   "outputs": [],
   "source": []
  },
  {
   "cell_type": "code",
   "execution_count": null,
   "id": "5897590b",
   "metadata": {},
   "outputs": [],
   "source": []
  },
  {
   "cell_type": "code",
   "execution_count": null,
   "id": "dab8b999",
   "metadata": {},
   "outputs": [],
   "source": []
  },
  {
   "cell_type": "code",
   "execution_count": null,
   "id": "847d2db5",
   "metadata": {},
   "outputs": [],
   "source": []
  },
  {
   "cell_type": "code",
   "execution_count": null,
   "id": "ea66f594",
   "metadata": {},
   "outputs": [],
   "source": []
  }
 ],
 "metadata": {
  "kernelspec": {
   "display_name": "Python 3",
   "language": "python",
   "name": "python3"
  },
  "language_info": {
   "codemirror_mode": {
    "name": "ipython",
    "version": 3
   },
   "file_extension": ".py",
   "mimetype": "text/x-python",
   "name": "python",
   "nbconvert_exporter": "python",
   "pygments_lexer": "ipython3",
   "version": "3.6.13"
  }
 },
 "nbformat": 4,
 "nbformat_minor": 5
}
